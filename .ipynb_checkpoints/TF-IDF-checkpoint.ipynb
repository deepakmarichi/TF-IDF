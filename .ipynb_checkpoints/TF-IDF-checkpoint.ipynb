{
 "cells": [
  {
   "cell_type": "markdown",
   "metadata": {},
   "source": [
    "# 1. Import Libraries and Data"
   ]
  },
  {
   "cell_type": "code",
   "execution_count": 1,
   "metadata": {},
   "outputs": [
    {
     "name": "stderr",
     "output_type": "stream",
     "text": [
      "[nltk_data] Downloading package wordnet to\n",
      "[nltk_data]     C:\\Users\\deepa\\AppData\\Roaming\\nltk_data...\n",
      "[nltk_data]   Package wordnet is already up-to-date!\n"
     ]
    }
   ],
   "source": [
    "import nltk\n",
    "import pandas as pd\n",
    "from pandas import DataFrame\n",
    "import csv\n",
    "import matplotlib.pyplot as mplot\n",
    "from nltk.corpus import stopwords\n",
    "stop = stopwords.words('english')\n",
    "import numpy as np\n",
    "nltk.download('wordnet')\n",
    "from textblob import TextBlob\n",
    "from textblob import Word"
   ]
  },
  {
   "cell_type": "code",
   "execution_count": 2,
   "metadata": {},
   "outputs": [],
   "source": [
    "#reading the csv file\n",
    "train = pd.read_csv('Scrapped data.csv', index_col = 0)"
   ]
  },
  {
   "cell_type": "code",
   "execution_count": 3,
   "metadata": {},
   "outputs": [
    {
     "name": "stdout",
     "output_type": "stream",
     "text": [
      "                                                Title                                             Review\n",
      "0                Business Owners AVOID at all costs..  American Express Open... openly takes full con...\n",
      "1   Look elsewhere...Visa, MasterCard or Discover ...  So I requested a credit line increase because ...\n",
      "2    AMERICAN EXPRESS - THE COMPANY YOU CAN'T RELY ON  Booked a holiday & paid by American Express fo...\n",
      "3                              Never get an amex card  flights cancelled with airline.Been trying for...\n",
      "4                     The Platinum Perennial Torture!  The Platinum Perennial Torture!Despite being A...\n",
      "5                               Good customer support                  Great company. Resolved my issues\n",
      "6                       Wonderful Customer Service!!!  I've never had customer service answer me so q...\n",
      "7               I had a dispute opened with TravelUp.  I had a dispute opened with TravelUp.Whereas m...\n",
      "8                                          The worst!  I would give their customer service a Zero if ...\n",
      "9     So unhelpful with disputes and customer service  I applied for a refund to Ryanair as our fligh...\n",
      "10                   2nd review trying to pay my bill  2nd review trying to pay my bill, DCM called m...\n",
      "11           I have been with American express for 6…  I have been with American express for 6 years ...\n",
      "12           American Express has the worst customer…  American Express has the worst customer servic...\n",
      "13                                      Nasty company  Nasty company ! They don't tell the truth ! Th...\n",
      "14                                            Perfect  Guys, I never had ANY issue using my AMEX and ...\n",
      "15                                   They're terrible  They're terrible, and even worse when you need...\n",
      "16             Been with Amex for five years in good…  Been with Amex for five years in good standing...\n",
      "17                         I want to give a ZERO star  I want to give a ZERO star, but I can not. The...\n",
      "18  Pathetic and Inconsiderate during this pandemi...  I have to write this review because of disappo...\n",
      "19               I have been a card holder member of…  I have been a card holder member of American E...\n"
     ]
    }
   ],
   "source": [
    "pd.set_option('expand_frame_repr', False)\n",
    "print(train)"
   ]
  },
  {
   "cell_type": "markdown",
   "metadata": {},
   "source": [
    "# 2. Basic data features to know the details of the reviews"
   ]
  },
  {
   "cell_type": "code",
   "execution_count": 4,
   "metadata": {},
   "outputs": [
    {
     "data": {
      "text/html": [
       "<div>\n",
       "<style scoped>\n",
       "    .dataframe tbody tr th:only-of-type {\n",
       "        vertical-align: middle;\n",
       "    }\n",
       "\n",
       "    .dataframe tbody tr th {\n",
       "        vertical-align: top;\n",
       "    }\n",
       "\n",
       "    .dataframe thead th {\n",
       "        text-align: right;\n",
       "    }\n",
       "</style>\n",
       "<table border=\"1\" class=\"dataframe\">\n",
       "  <thead>\n",
       "    <tr style=\"text-align: right;\">\n",
       "      <th></th>\n",
       "      <th>Review</th>\n",
       "      <th>word_count</th>\n",
       "      <th>char_count</th>\n",
       "      <th>stopwords</th>\n",
       "      <th>numerics</th>\n",
       "    </tr>\n",
       "  </thead>\n",
       "  <tbody>\n",
       "    <tr>\n",
       "      <td>0</td>\n",
       "      <td>American Express Open... openly takes full con...</td>\n",
       "      <td>228</td>\n",
       "      <td>1291</td>\n",
       "      <td>98</td>\n",
       "      <td>1</td>\n",
       "    </tr>\n",
       "    <tr>\n",
       "      <td>1</td>\n",
       "      <td>So I requested a credit line increase because ...</td>\n",
       "      <td>111</td>\n",
       "      <td>580</td>\n",
       "      <td>45</td>\n",
       "      <td>0</td>\n",
       "    </tr>\n",
       "    <tr>\n",
       "      <td>2</td>\n",
       "      <td>Booked a holiday &amp; paid by American Express fo...</td>\n",
       "      <td>58</td>\n",
       "      <td>339</td>\n",
       "      <td>19</td>\n",
       "      <td>1</td>\n",
       "    </tr>\n",
       "    <tr>\n",
       "      <td>3</td>\n",
       "      <td>flights cancelled with airline.Been trying for...</td>\n",
       "      <td>33</td>\n",
       "      <td>188</td>\n",
       "      <td>13</td>\n",
       "      <td>0</td>\n",
       "    </tr>\n",
       "    <tr>\n",
       "      <td>4</td>\n",
       "      <td>The Platinum Perennial Torture!Despite being A...</td>\n",
       "      <td>42</td>\n",
       "      <td>264</td>\n",
       "      <td>8</td>\n",
       "      <td>2</td>\n",
       "    </tr>\n",
       "  </tbody>\n",
       "</table>\n",
       "</div>"
      ],
      "text/plain": [
       "                                              Review  word_count  char_count  stopwords  numerics\n",
       "0  American Express Open... openly takes full con...         228        1291         98         1\n",
       "1  So I requested a credit line increase because ...         111         580         45         0\n",
       "2  Booked a holiday & paid by American Express fo...          58         339         19         1\n",
       "3  flights cancelled with airline.Been trying for...          33         188         13         0\n",
       "4  The Platinum Perennial Torture!Despite being A...          42         264          8         2"
      ]
     },
     "execution_count": 4,
     "metadata": {},
     "output_type": "execute_result"
    }
   ],
   "source": [
    "#Count of words\n",
    "train['word_count'] = train['Review'].apply(lambda x: len(str(x).split(\" \")))\n",
    "\n",
    "#Count of characters\n",
    "train['char_count'] = train['Review'].str.len() ## this also includes spaces\n",
    "\n",
    "#Count of stopwords\n",
    "train['stopwords'] = train['Review'].apply(lambda x: len([x for x in x.split() if x in stop]))\n",
    "\n",
    "#count of numbers\n",
    "train['numerics'] = train['Review'].apply(lambda x: len([x for x in x.split() if x.isdigit()]))\n",
    "\n",
    "train[['Review','word_count','char_count','stopwords','numerics']].head()"
   ]
  },
  {
   "cell_type": "markdown",
   "metadata": {},
   "source": [
    "# 3. Pre-processing of the data"
   ]
  },
  {
   "cell_type": "code",
   "execution_count": 5,
   "metadata": {},
   "outputs": [
    {
     "data": {
      "text/plain": [
       "0    american express open openly take full control...\n",
       "1    requested credit line increase american expres...\n",
       "2    booked holiday paid american express nearly 52...\n",
       "3    flight canceled airlinebeen trying week get re...\n",
       "4    platino perennial torturedespite apex big plat...\n",
       "Name: Review, dtype: object"
      ]
     },
     "execution_count": 5,
     "metadata": {},
     "output_type": "execute_result"
    }
   ],
   "source": [
    "#converting to lowercase\n",
    "train['Review'] = train['Review'].apply(lambda x: \" \".join(x.lower() for x in x.split()))\n",
    "\n",
    "#removing punctuations\n",
    "train['Review'] = train['Review'].str.replace('[^\\w\\s]','')\n",
    "\n",
    "#removing stopwords\n",
    "train['Review'] = train['Review'].apply(lambda x: \" \".join(x for x in x.split() if x not in stop))\n",
    "\n",
    "#lemmatization-it reduces the word to its root form\n",
    "train['Review'] = train['Review'].apply(lambda x: \" \".join([Word(word).lemmatize() for word in x.split()]))\n",
    "\n",
    "#Spelling correction\n",
    "train['Review']=train['Review'].apply(lambda x: str(TextBlob(x).correct()))\n",
    "\n",
    "train['Review'].head()"
   ]
  },
  {
   "cell_type": "markdown",
   "metadata": {},
   "source": [
    "# 4. Term Frequency"
   ]
  },
  {
   "cell_type": "code",
   "execution_count": 6,
   "metadata": {},
   "outputs": [
    {
     "data": {
      "text/html": [
       "<div>\n",
       "<style scoped>\n",
       "    .dataframe tbody tr th:only-of-type {\n",
       "        vertical-align: middle;\n",
       "    }\n",
       "\n",
       "    .dataframe tbody tr th {\n",
       "        vertical-align: top;\n",
       "    }\n",
       "\n",
       "    .dataframe thead th {\n",
       "        text-align: right;\n",
       "    }\n",
       "</style>\n",
       "<table border=\"1\" class=\"dataframe\">\n",
       "  <thead>\n",
       "    <tr style=\"text-align: right;\">\n",
       "      <th></th>\n",
       "      <th>Words</th>\n",
       "      <th>TF</th>\n",
       "    </tr>\n",
       "  </thead>\n",
       "  <tbody>\n",
       "    <tr>\n",
       "      <td>0</td>\n",
       "      <td>business</td>\n",
       "      <td>6.0</td>\n",
       "    </tr>\n",
       "    <tr>\n",
       "      <td>1</td>\n",
       "      <td>express</td>\n",
       "      <td>16.0</td>\n",
       "    </tr>\n",
       "    <tr>\n",
       "      <td>2</td>\n",
       "      <td>american</td>\n",
       "      <td>16.0</td>\n",
       "    </tr>\n",
       "    <tr>\n",
       "      <td>3</td>\n",
       "      <td>make</td>\n",
       "      <td>6.0</td>\n",
       "    </tr>\n",
       "    <tr>\n",
       "      <td>4</td>\n",
       "      <td>pay</td>\n",
       "      <td>12.0</td>\n",
       "    </tr>\n",
       "    <tr>\n",
       "      <td>...</td>\n",
       "      <td>...</td>\n",
       "      <td>...</td>\n",
       "    </tr>\n",
       "    <tr>\n",
       "      <td>457</td>\n",
       "      <td>informed</td>\n",
       "      <td>1.0</td>\n",
       "    </tr>\n",
       "    <tr>\n",
       "      <td>458</td>\n",
       "      <td>40</td>\n",
       "      <td>1.0</td>\n",
       "    </tr>\n",
       "    <tr>\n",
       "      <td>459</td>\n",
       "      <td>appeared</td>\n",
       "      <td>1.0</td>\n",
       "    </tr>\n",
       "    <tr>\n",
       "      <td>460</td>\n",
       "      <td>appreciate</td>\n",
       "      <td>1.0</td>\n",
       "    </tr>\n",
       "    <tr>\n",
       "      <td>461</td>\n",
       "      <td>family</td>\n",
       "      <td>1.0</td>\n",
       "    </tr>\n",
       "  </tbody>\n",
       "</table>\n",
       "<p>462 rows × 2 columns</p>\n",
       "</div>"
      ],
      "text/plain": [
       "          Words    TF\n",
       "0      business   6.0\n",
       "1       express  16.0\n",
       "2      american  16.0\n",
       "3          make   6.0\n",
       "4           pay  12.0\n",
       "..          ...   ...\n",
       "457    informed   1.0\n",
       "458          40   1.0\n",
       "459    appeared   1.0\n",
       "460  appreciate   1.0\n",
       "461      family   1.0\n",
       "\n",
       "[462 rows x 2 columns]"
      ]
     },
     "execution_count": 6,
     "metadata": {},
     "output_type": "execute_result"
    }
   ],
   "source": [
    "tf1 = (train['Review']).apply(lambda x: pd.value_counts(x.split(\" \"))).sum(axis = 0).reset_index()\n",
    "tf1.columns = ['Words','TF']\n",
    "tf1"
   ]
  },
  {
   "cell_type": "markdown",
   "metadata": {},
   "source": [
    "# 5. Inverse Document Frequency"
   ]
  },
  {
   "cell_type": "code",
   "execution_count": 8,
   "metadata": {
    "scrolled": true
   },
   "outputs": [
    {
     "data": {
      "text/html": [
       "<div>\n",
       "<style scoped>\n",
       "    .dataframe tbody tr th:only-of-type {\n",
       "        vertical-align: middle;\n",
       "    }\n",
       "\n",
       "    .dataframe tbody tr th {\n",
       "        vertical-align: top;\n",
       "    }\n",
       "\n",
       "    .dataframe thead th {\n",
       "        text-align: right;\n",
       "    }\n",
       "</style>\n",
       "<table border=\"1\" class=\"dataframe\">\n",
       "  <thead>\n",
       "    <tr style=\"text-align: right;\">\n",
       "      <th></th>\n",
       "      <th>Words</th>\n",
       "      <th>TF</th>\n",
       "      <th>IDF</th>\n",
       "    </tr>\n",
       "  </thead>\n",
       "  <tbody>\n",
       "    <tr>\n",
       "      <td>0</td>\n",
       "      <td>business</td>\n",
       "      <td>6.0</td>\n",
       "      <td>2.995732</td>\n",
       "    </tr>\n",
       "    <tr>\n",
       "      <td>1</td>\n",
       "      <td>express</td>\n",
       "      <td>16.0</td>\n",
       "      <td>0.916291</td>\n",
       "    </tr>\n",
       "    <tr>\n",
       "      <td>2</td>\n",
       "      <td>american</td>\n",
       "      <td>16.0</td>\n",
       "      <td>0.916291</td>\n",
       "    </tr>\n",
       "    <tr>\n",
       "      <td>3</td>\n",
       "      <td>make</td>\n",
       "      <td>6.0</td>\n",
       "      <td>1.609438</td>\n",
       "    </tr>\n",
       "    <tr>\n",
       "      <td>4</td>\n",
       "      <td>pay</td>\n",
       "      <td>12.0</td>\n",
       "      <td>1.049822</td>\n",
       "    </tr>\n",
       "    <tr>\n",
       "      <td>...</td>\n",
       "      <td>...</td>\n",
       "      <td>...</td>\n",
       "      <td>...</td>\n",
       "    </tr>\n",
       "    <tr>\n",
       "      <td>457</td>\n",
       "      <td>informed</td>\n",
       "      <td>1.0</td>\n",
       "      <td>2.995732</td>\n",
       "    </tr>\n",
       "    <tr>\n",
       "      <td>458</td>\n",
       "      <td>40</td>\n",
       "      <td>1.0</td>\n",
       "      <td>2.302585</td>\n",
       "    </tr>\n",
       "    <tr>\n",
       "      <td>459</td>\n",
       "      <td>appeared</td>\n",
       "      <td>1.0</td>\n",
       "      <td>2.995732</td>\n",
       "    </tr>\n",
       "    <tr>\n",
       "      <td>460</td>\n",
       "      <td>appreciate</td>\n",
       "      <td>1.0</td>\n",
       "      <td>2.995732</td>\n",
       "    </tr>\n",
       "    <tr>\n",
       "      <td>461</td>\n",
       "      <td>family</td>\n",
       "      <td>1.0</td>\n",
       "      <td>2.995732</td>\n",
       "    </tr>\n",
       "  </tbody>\n",
       "</table>\n",
       "<p>462 rows × 3 columns</p>\n",
       "</div>"
      ],
      "text/plain": [
       "          Words    TF       IDF\n",
       "0      business   6.0  2.995732\n",
       "1       express  16.0  0.916291\n",
       "2      american  16.0  0.916291\n",
       "3          make   6.0  1.609438\n",
       "4           pay  12.0  1.049822\n",
       "..          ...   ...       ...\n",
       "457    informed   1.0  2.995732\n",
       "458          40   1.0  2.302585\n",
       "459    appeared   1.0  2.995732\n",
       "460  appreciate   1.0  2.995732\n",
       "461      family   1.0  2.995732\n",
       "\n",
       "[462 rows x 3 columns]"
      ]
     },
     "execution_count": 8,
     "metadata": {},
     "output_type": "execute_result"
    }
   ],
   "source": [
    "for i,word in enumerate(tf1['Words']):\n",
    "    tf1.loc[i, 'IDF'] = np.log(train.shape[0]/(len(train[train['Review'].str.contains(word)])))\n",
    "tf1"
   ]
  },
  {
   "cell_type": "markdown",
   "metadata": {},
   "source": [
    "# 6. TF-IDF for each term"
   ]
  },
  {
   "cell_type": "code",
   "execution_count": 10,
   "metadata": {},
   "outputs": [
    {
     "data": {
      "text/html": [
       "<div>\n",
       "<style scoped>\n",
       "    .dataframe tbody tr th:only-of-type {\n",
       "        vertical-align: middle;\n",
       "    }\n",
       "\n",
       "    .dataframe tbody tr th {\n",
       "        vertical-align: top;\n",
       "    }\n",
       "\n",
       "    .dataframe thead th {\n",
       "        text-align: right;\n",
       "    }\n",
       "</style>\n",
       "<table border=\"1\" class=\"dataframe\">\n",
       "  <thead>\n",
       "    <tr style=\"text-align: right;\">\n",
       "      <th></th>\n",
       "      <th>Words</th>\n",
       "      <th>TF</th>\n",
       "      <th>IDF</th>\n",
       "      <th>TF-IDF</th>\n",
       "    </tr>\n",
       "  </thead>\n",
       "  <tbody>\n",
       "    <tr>\n",
       "      <td>0</td>\n",
       "      <td>business</td>\n",
       "      <td>6.0</td>\n",
       "      <td>2.995732</td>\n",
       "      <td>17.974394</td>\n",
       "    </tr>\n",
       "    <tr>\n",
       "      <td>1</td>\n",
       "      <td>express</td>\n",
       "      <td>16.0</td>\n",
       "      <td>0.916291</td>\n",
       "      <td>14.660652</td>\n",
       "    </tr>\n",
       "    <tr>\n",
       "      <td>2</td>\n",
       "      <td>american</td>\n",
       "      <td>16.0</td>\n",
       "      <td>0.916291</td>\n",
       "      <td>14.660652</td>\n",
       "    </tr>\n",
       "    <tr>\n",
       "      <td>3</td>\n",
       "      <td>make</td>\n",
       "      <td>6.0</td>\n",
       "      <td>1.609438</td>\n",
       "      <td>9.656627</td>\n",
       "    </tr>\n",
       "    <tr>\n",
       "      <td>4</td>\n",
       "      <td>pay</td>\n",
       "      <td>12.0</td>\n",
       "      <td>1.049822</td>\n",
       "      <td>12.597865</td>\n",
       "    </tr>\n",
       "    <tr>\n",
       "      <td>...</td>\n",
       "      <td>...</td>\n",
       "      <td>...</td>\n",
       "      <td>...</td>\n",
       "      <td>...</td>\n",
       "    </tr>\n",
       "    <tr>\n",
       "      <td>457</td>\n",
       "      <td>informed</td>\n",
       "      <td>1.0</td>\n",
       "      <td>2.995732</td>\n",
       "      <td>2.995732</td>\n",
       "    </tr>\n",
       "    <tr>\n",
       "      <td>458</td>\n",
       "      <td>40</td>\n",
       "      <td>1.0</td>\n",
       "      <td>2.302585</td>\n",
       "      <td>2.302585</td>\n",
       "    </tr>\n",
       "    <tr>\n",
       "      <td>459</td>\n",
       "      <td>appeared</td>\n",
       "      <td>1.0</td>\n",
       "      <td>2.995732</td>\n",
       "      <td>2.995732</td>\n",
       "    </tr>\n",
       "    <tr>\n",
       "      <td>460</td>\n",
       "      <td>appreciate</td>\n",
       "      <td>1.0</td>\n",
       "      <td>2.995732</td>\n",
       "      <td>2.995732</td>\n",
       "    </tr>\n",
       "    <tr>\n",
       "      <td>461</td>\n",
       "      <td>family</td>\n",
       "      <td>1.0</td>\n",
       "      <td>2.995732</td>\n",
       "      <td>2.995732</td>\n",
       "    </tr>\n",
       "  </tbody>\n",
       "</table>\n",
       "<p>462 rows × 4 columns</p>\n",
       "</div>"
      ],
      "text/plain": [
       "          Words    TF       IDF     TF-IDF\n",
       "0      business   6.0  2.995732  17.974394\n",
       "1       express  16.0  0.916291  14.660652\n",
       "2      american  16.0  0.916291  14.660652\n",
       "3          make   6.0  1.609438   9.656627\n",
       "4           pay  12.0  1.049822  12.597865\n",
       "..          ...   ...       ...        ...\n",
       "457    informed   1.0  2.995732   2.995732\n",
       "458          40   1.0  2.302585   2.302585\n",
       "459    appeared   1.0  2.995732   2.995732\n",
       "460  appreciate   1.0  2.995732   2.995732\n",
       "461      family   1.0  2.995732   2.995732\n",
       "\n",
       "[462 rows x 4 columns]"
      ]
     },
     "execution_count": 10,
     "metadata": {},
     "output_type": "execute_result"
    }
   ],
   "source": [
    "tf1['TF-IDF'] = tf1['TF'] * tf1['IDF']\n",
    "tf1"
   ]
  },
  {
   "cell_type": "markdown",
   "metadata": {},
   "source": [
    "# 7. Saving the FIle"
   ]
  },
  {
   "cell_type": "code",
   "execution_count": 11,
   "metadata": {},
   "outputs": [],
   "source": [
    "tf1.to_csv(r'TFIDF.csv')"
   ]
  },
  {
   "cell_type": "code",
   "execution_count": null,
   "metadata": {},
   "outputs": [],
   "source": []
  },
  {
   "cell_type": "code",
   "execution_count": null,
   "metadata": {},
   "outputs": [],
   "source": []
  }
 ],
 "metadata": {
  "kernelspec": {
   "display_name": "Python 3",
   "language": "python",
   "name": "python3"
  },
  "language_info": {
   "codemirror_mode": {
    "name": "ipython",
    "version": 3
   },
   "file_extension": ".py",
   "mimetype": "text/x-python",
   "name": "python",
   "nbconvert_exporter": "python",
   "pygments_lexer": "ipython3",
   "version": "3.7.3"
  }
 },
 "nbformat": 4,
 "nbformat_minor": 4
}
